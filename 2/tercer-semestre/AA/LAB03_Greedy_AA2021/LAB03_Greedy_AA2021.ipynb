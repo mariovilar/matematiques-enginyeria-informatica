{
 "cells": [
  {
   "cell_type": "markdown",
   "metadata": {},
   "source": [
    "<div style=\"padding:30px; color: white; background-color: #0071CD\">\n",
    "<center>\n",
    "<img src=\"img/logoub.jpeg\"></img>\n",
    "<center>\n",
    "<h1>Algorísmica Avançada 2021</h1>\n",
    "<h2>Pràctica 3 - Greedy</h2>\n",
    "</center>\n",
    "</div>"
   ]
  },
  {
   "cell_type": "code",
   "execution_count": 83,
   "metadata": {},
   "outputs": [
    {
     "data": {
      "text/html": [
       "<style>.container { width:100% !important; }</style>"
      ],
      "text/plain": [
       "<IPython.core.display.HTML object>"
      ]
     },
     "metadata": {},
     "output_type": "display_data"
    }
   ],
   "source": [
    "from IPython.core.display import display, HTML\n",
    "display(HTML(\"<style>.container { width:100% !important; }</style>\"))"
   ]
  },
  {
   "cell_type": "markdown",
   "metadata": {},
   "source": [
    "<div class=\"alert alert-info\">\n",
    "<h2>Avís general per a les Pràctiques de Laboratori</h2>\n",
    "\n",
    "És molt important <b>comentar tot el vostre codi</b>. Comentar el codi no només facilita a altres persones que el llegeixin la compressió del que esteu fent, sinó també a vosaltres mateixos durant el procés de disseny i implementació. D'aquesta forma podreu entendre el vostre propi codi encara que faci molt temps que no el consulteu. A més, a l'hora de ser corregits, un codi comentat s'entén molt millor, la qual cosa ajuda a traslladar al professor les idees que teníeu a l'intentar implementar-lo i encara més en el cas que no ho hagueu pogut acabar-ho amb èxit. No cal comentar cada línia, però si el que fa cada part.\n",
    "\n",
    "En segon lloc, és molt important <b>respectar les capçaleres de les funcions i estructura de la funció ```return```</b> que s'indiquin a l'enunciat. Tot i que llegim i corregim els vostres codis en detall, fem servir correctors automàtics per guiar i agilitzar el procés i saber quines solucións funcionen i quines no ja d'entrada. \n",
    "\n",
    "Axí doncs, si es demana que la funció tingui la següent estructura: \n",
    "\n",
    "```python\n",
    "def exercici1(param1, param2):\n",
    "    # implementació de la solució\n",
    "    return resultat \n",
    "```\n",
    "\n",
    "És important que en el notebook existeixi aquesta funció i que no canvieu el nom dels paràmetres ni el tipus de dada retornada.\n",
    "    \n",
    "</div>\n",
    "\n",
    "\n"
   ]
  },
  {
   "cell_type": "markdown",
   "metadata": {},
   "source": [
    "<div class=\"alert alert-success\">\n",
    "    <h1>Problema 1: Xocolata!</h1>\n",
    "    <p>\n",
    "        Considereu una rajola de xocolata de mida $W\\times H$ on $W$ és l'amplada (width) i $H$ és l'alçada (height). \n",
    "        <img src=\"img/chocolate.png\" width='40%'></img>\n",
    "        Com veieu, aquesta rajola està formada per peces més petites de xocolata. \n",
    "        El nostre objectiu és separar totes les peces de la rajola amb el mínim cost possible. Cada tall vertical de la rajola té un cost diferent: $x_1,\\dots,x_{w-1}$ i cada tall horitzontal també té un cost diferent: $y_1,\\dots,y_{h-1}$.<br><br>\n",
    "        Un cop fet un tall, la rajola queda partida i el cost del proper tall queda multiplicat pel nombre de peces diferents que es tallen. Per exemple, en l'imatge d'exemple, si primer tallem per $y_2$, a continuació tallem per $x_1$ i després tallem per $y_3$, el cost total serà: $y_2 + 2x_1 + 2y_3$.<br><br>\n",
    "        Implementeu la funció <b>xocolata</b> que donats els talls verticals i horitzontals ens retorni l'ordre dels talls a realitzar, la quantitat de cada tall i el cost total de trencar la xocolata en peces individuals. Trobareu el format exacte a la capçalera de la funció.\n",
    "    </p>      \n",
    "</div>"
   ]
  },
  {
   "cell_type": "code",
   "execution_count": 84,
   "metadata": {},
   "outputs": [],
   "source": [
    "def xocolata(x, y):\n",
    "    \"\"\"\n",
    "    Params\n",
    "    ======\n",
    "    :x: Llista de costs d'esquerra a dreta dels talls verticals.\n",
    "    :y: Llista de costs de dalt a baix dels talls horitzontals.\n",
    "    \n",
    "    Returns\n",
    "    =======\n",
    "    :cuts: Una llista de tuples amb el format següent: \n",
    "           [(c1, n1), (c2, n2), ...] on:\n",
    "           - c1 és el valor del primer tall\n",
    "           - n1 és el nombre de talls c1 que hem de fer\n",
    "           Exemple: [(3,1), (4,2), ...] vol dir que fem primer un tall de cost 3 i a continuació dos talls de cost 4.\n",
    "           \n",
    "    :cost: El cost total de tallar la xocolata en peces individuals.\n",
    "    \"\"\"\n",
    "    # DECLARACIÓ DE VARIABLES\n",
    "    cuts = []; cost = 0;\n",
    "    cuts_x = 1; cuts_y = 1;\n",
    "    \n",
    "    # COS DEL PROGRAMA\n",
    "    while len(x)+len(y)>0:\n",
    "        best_x = min(x) if x else -float('inf'); \n",
    "        best_y = min(y) if y else -float('inf');\n",
    "        for cut in x:\n",
    "            if cut > best_x:\n",
    "                best_x = cut;\n",
    "        for cut in y:\n",
    "            if cut > best_y:\n",
    "                best_y = cut;\n",
    "        if cuts_y*best_x >= cuts_x*best_y:\n",
    "            cuts.append((best_x,cuts_y));\n",
    "            cost += cuts_y*best_x;\n",
    "            cuts_x += 1;\n",
    "            x.remove(best_x);\n",
    "        else:\n",
    "            cuts.append((best_y,cuts_x));\n",
    "            cost += cuts_x*best_y;\n",
    "            cuts_y += 1;\n",
    "            y.remove(best_y);\n",
    "    \n",
    "    # RETURN\n",
    "    return cuts, cost"
   ]
  },
  {
   "cell_type": "code",
   "execution_count": 85,
   "metadata": {},
   "outputs": [
    {
     "data": {
      "text/plain": [
       "([(5, 1), (5, 2), (5, 2), (4, 3), (3, 3), (3, 4), (2, 4), (1, 4)], 70)"
      ]
     },
     "execution_count": 85,
     "metadata": {},
     "output_type": "execute_result"
    }
   ],
   "source": [
    "xocolata([1,5,3,4,2],[5,5,3])"
   ]
  },
  {
   "cell_type": "markdown",
   "metadata": {},
   "source": [
    "<div class=\"alert alert-success\">\n",
    "    <h1>Problema 2: Un alfabet estrany</h1>\n",
    "    <p>\n",
    "        Volem enviar missatges utilitzant el mínim d'espai possible utilitzant una codificació de dos caràcters '.' i '-'. Per fer-ho hem de traduïr cada lletra de l'alfabet català a aquesta representació. <br>\n",
    "        Per exemple, podem assignar que la lletra A correspon a l'string '.', la lletra B a l'string '.-' i la lletra C a l'string '--'. Així, la paraula ABC ens quedaria codificada com '.-.--'.<br><br>\n",
    "        Per a que la codificació sigui bona i reversible, és a dir, que siguem capaços de desxifrar-la, és important que els strings de codificació que triem no portin a errors.<br>\n",
    "        Per exemple, si codifiquem A='.', B='-.', C='.-' i tenim l'string '.-..-', aquest pot representar tant la paraula ABC com la paraula CAC i, per tant, no és una bona codificació.\n",
    "        Seguiu els següents passos per a implementar la solució:\n",
    "    </p>  \n",
    "    <h2>2.1 Trobar la codificació</h2>\n",
    "    <ol>\n",
    "        <li>Implementeu una funció <code>compute_frequency</code> que calculi la freqüència de cada lletra, és a dir, el nombre de cops que apareix a dins l'string.   \n",
    "        <li>Ara crearem un arbre binari per emmagatzemar els nodes. Utilitza la classe <code>Node</code> seguint les indicacions:\n",
    "        <ol>\n",
    "            <li>Inicialitza una llista <code>nodes_list</code> on cada lletra sigui un node i tingui com a valor, el càlcul de freqüència del primer apartat.\n",
    "            <li>Mentre la llista tingui dos nodes com a mínim, extreu de la llista els dos nodes amb la frequencia més petita i guarda'ls a l'arbre assignant-els-hi el mateix pare. \n",
    "            <li>Assigna el caràcter '.' al node de la dreta i el caràcter '-' al node de l'esquerra.\n",
    "            <li>Guarda el node pare a <code>nodes_list</code> assignant-li com a valor de freqüència la suma dels seus dos fills.\n",
    "            <li>Torna al punt B.\n",
    "        </ol>\n",
    "        <img src=\"img/graph.png\" width='25%'></img><br>\n",
    "        <li>Assigna un codi a cada fulla de l'arbre de la forma següent: sempre que descendeixis a un node de la dreta utilitza el caràcter '.' i al descendir al node de l'esquerra utilitza el caràcter '-'.\n",
    "        <li>Retorna aquesta assignació com a diccionari.\n",
    "    </ol>\n",
    "    <h2>2.2 Codificar i decodificar</h2>\n",
    "    <ol>\n",
    "        <li>Crea una funció <code>encode</code> que utilitzi el diccionari retornat anteriorment per a codificar un text d'entrada\n",
    "        <li>Crea una funció <code>decode</code> que utilitzi el diccionari retornat anteriorment per a decodificar un text d'entrada\n",
    "        <li>Executa la funció <code>alphabet</code> i comprova que el resultat sigui l'esperat.\n",
    "    </ol>\n",
    "    \n",
    "</div>"
   ]
  },
  {
   "cell_type": "markdown",
   "metadata": {},
   "source": [
    "Exemple d'execució:\n",
    "\n",
    "- Text a codificar: ABABAC\n",
    "- Diccionari de freqüències: {'A': 3, 'B': 2, 'C': 1}\n",
    "- Diccionari de conversió: {'C': '--', 'B': '-.', 'A': '.'}\n",
    "- Codificat: .-..-..--\n",
    "- Decodificat: ABABAC"
   ]
  },
  {
   "cell_type": "code",
   "execution_count": 86,
   "metadata": {},
   "outputs": [],
   "source": [
    "from collections import defaultdict\n",
    "\n",
    "def compute_frequency(text):\n",
    "    \"\"\"\n",
    "    Params\n",
    "    ======\n",
    "    :text: El text que volem codificar\n",
    "    \n",
    "    Returns\n",
    "    =======\n",
    "    :dct: Un diccionari amb el nombre de cops que apareix cada simbol en el text d'entrada. Per exemple: {'A': 3, 'B': 2, 'C': 1}\n",
    "    \"\"\"\n",
    "    # DECLARACIÓ DE VARIABLES\n",
    "    nodes_list = list(text); visited = []; dct = {}\n",
    "    \n",
    "    # COS DEL PROGRAMA\n",
    "    for element in nodes_list:\n",
    "        if element not in visited:\n",
    "            dct[element] = 1;\n",
    "            visited.append(element)\n",
    "        else:\n",
    "            dct[element] += 1;\n",
    "    return dct"
   ]
  },
  {
   "cell_type": "code",
   "execution_count": 87,
   "metadata": {},
   "outputs": [],
   "source": [
    "class Node:\n",
    "    \"\"\"\n",
    "    Aquesta classe emmagatzema la informació dels nodes de l'arbre binari.\n",
    "    \"\"\"\n",
    "    def __init__(self, node, value, left=None, right=None):\n",
    "        self.node = node    # String que representa el node\n",
    "        self.value = value  # Valor de freqüència\n",
    "        self.left = left    # Node de l'esquerra\n",
    "        self.right = right  # Node de la dreta\n",
    "        self.code = ''      # Codificació del node\n",
    "\n",
    "    def set_code(self, code):\n",
    "        self.code = code\n",
    "\n",
    "    def __repr__(self):\n",
    "        return f\"Node({self.node},{self.value},{self.code})\""
   ]
  },
  {
   "cell_type": "code",
   "execution_count": 88,
   "metadata": {},
   "outputs": [],
   "source": [
    "###################### NOTA IMPORTANT ##########################\n",
    "# He optat utilitzar un anàleg al ja conegut DFS per anar re-  #\n",
    "# corrent l'arbre i actualitzant node.code a cada crida recur- #\n",
    "# siva en clau de funció auxiliar.                             #\n",
    "#                                                              #\n",
    "# Params                                                       #\n",
    "# ======                                                       #\n",
    "# :visited: un set que acumularà els nodes visitats.           #\n",
    "# :node: un element de la classe Node(), en particular l'arrel #\n",
    "#        de l'arbre que haguem construït                       #\n",
    "# :dct: un diccionari de codis que actualitzarem               #\n",
    "################################################################\n",
    "def dfs(visited,node,dct):\n",
    "    if node not in visited:\n",
    "        visited.add(node);\n",
    "        if node.left != None: # si té fill esquerre, continuem\n",
    "            node.left.set_code(node.code + node.left.code);\n",
    "            dfs(visited,node.left,dct);\n",
    "        if node.right != None: # si té fill dret, continuem\n",
    "            node.right.set_code(node.code + node.right.code);\n",
    "            dfs(visited,node.right,dct);\n",
    "        if node.node != None: # posem el node al diccionari\n",
    "            dct[node.node] = node.code;"
   ]
  },
  {
   "cell_type": "code",
   "execution_count": 89,
   "metadata": {},
   "outputs": [],
   "source": [
    "def assign_codes(text,counts):\n",
    "    \"\"\"\n",
    "    Segurament la funció més complexa del programa.\n",
    "    Aquesta funció construeix el diccionari de conversió de lletres a símbols '.' i '-'.\n",
    "    \n",
    "    Params\n",
    "    ======\n",
    "    :text: El text que volem convertir\n",
    "    :counts: El diccionari de freqüències que ens retorna la funció compute_frequency\n",
    "    \n",
    "    Returns\n",
    "    =======\n",
    "    :codes: El diccionari de conversió. Per exemple: {'C': '--', 'B': '-.', 'A': '.'}\n",
    "    \"\"\"\n",
    "    # Declaració de variables\n",
    "    dct = counts; aux = [];\n",
    "    nodes_list = [Node(node,dct[node]) for node in dct];\n",
    "    codes = {};\n",
    "    \n",
    "    # Cos del programa\n",
    "    while len(nodes_list) >= 2:\n",
    "        minim = Node(None,float('inf'));\n",
    "        # Obtenim els dos elements mínims\n",
    "        for _ in [0,1]:\n",
    "            for element in nodes_list:\n",
    "                if element.value < minim.value:\n",
    "                    minim = element;\n",
    "            aux.append(minim); nodes_list.remove(minim);\n",
    "            minim = Node(None,float('inf'));\n",
    "        # Extraiem aquests dos elements per fer un arbre\n",
    "        primer_element = aux[-2]; \n",
    "        segon_element = aux[-1];\n",
    "        primer_element.set_code('-'); segon_element.set_code('.'); # IMPORTANT!\n",
    "        parent = Node(None, primer_element.value + segon_element.value,\n",
    "                      primer_element, segon_element);\n",
    "        # Inserim el node pare a la llista de nodes\n",
    "        nodes_list.append(parent);\n",
    "    # Root de l'arbre, l'últim element de nodes_list, notem que en una llista buida no farem pop\n",
    "    if len(nodes_list) > 0:\n",
    "        root = nodes_list.pop();\n",
    "        if len(nodes_list) == 0: # un cas extrem, en què l'arbre solament tenia un node\n",
    "            root.set_code('.');  # li assignem un codi per poder fer la codificació\n",
    "        # Utilitzem dfs() per actualitzar el diccionari mitjançant el root de l'arbre\n",
    "        dfs(set(),root,dct);\n",
    "    codes = dct;\n",
    "    return codes;"
   ]
  },
  {
   "cell_type": "code",
   "execution_count": 90,
   "metadata": {},
   "outputs": [],
   "source": [
    "def encode(text, diccionari):\n",
    "    \"\"\"\n",
    "    Donat un text a codificar i un diccionari de conversió, codifica el text.\n",
    "    \n",
    "    Params\n",
    "    ======\n",
    "    :text: El text que volem codificar\n",
    "    :diccionari: El diccionari de conversió que farem servir\n",
    "    \n",
    "    Returns\n",
    "    =======\n",
    "    :code: Una representació del text usant només els caràcters '.' i '-'\n",
    "    \n",
    "    \"\"\"\n",
    "    letter_list = list(text);\n",
    "    for i in range(len(letter_list)): letter_list[i] = diccionari[letter_list[i]];\n",
    "    return \"\".join(letter_list)"
   ]
  },
  {
   "cell_type": "code",
   "execution_count": 91,
   "metadata": {},
   "outputs": [],
   "source": [
    "def decode(text, diccionari):\n",
    "    \"\"\"\n",
    "    Donat un text a decodificar i un diccionari de conversió, decodifica el text.\n",
    "    \n",
    "    Params\n",
    "    ======\n",
    "    :text: El text que volem decodificar (caràcters '.' i '-')\n",
    "    :diccionari: El diccionari de conversió que hem fet servir per codificar\n",
    "    \n",
    "    Returns\n",
    "    =======\n",
    "    :code: El text resultant de la decodificació.\n",
    "    \n",
    "    \"\"\"\n",
    "    letter_list = list(text);\n",
    "    for i in range(len(letter_list)):\n",
    "        if letter_list[i] in list(diccionari.values()):\n",
    "            for j,k in diccionari.items():\n",
    "                if k == letter_list[i]: letter_list[i] = j;\n",
    "        else:\n",
    "            letter_list[i+1] = letter_list[i]+letter_list[i+1];\n",
    "            letter_list[i] = '';\n",
    "    return \"\".join(letter_list)"
   ]
  },
  {
   "cell_type": "code",
   "execution_count": 92,
   "metadata": {},
   "outputs": [],
   "source": [
    "def alphabet(text):\n",
    "    \"\"\"\n",
    "    Funció per comprovar que el codi s'executa correctament. No modifiqueu aquesta funció.\n",
    "    \n",
    "    Params\n",
    "    ======\n",
    "    :text: Missatge que volem fer servir per provar les funcions.\n",
    "    \"\"\"\n",
    "    \n",
    "    print(\"Text a codificar:\", text)\n",
    "    \n",
    "    counts = compute_frequency(text)\n",
    "    print(\"Diccionari de freqüències:\", counts)\n",
    "    \n",
    "    codes = assign_codes(text, counts)\n",
    "    print(\"Diccionari de conversió:\", codes)\n",
    "    \n",
    "    codi = encode(text, codes)\n",
    "    print(\"Codificat:\", codi)\n",
    "    print(\"Decodificat:\", decode(codi, codes))"
   ]
  },
  {
   "cell_type": "code",
   "execution_count": 93,
   "metadata": {},
   "outputs": [
    {
     "name": "stdout",
     "output_type": "stream",
     "text": [
      "Text a codificar: ABBCACCCDBAAABCAACCCB\n",
      "Diccionari de freqüències: {'A': 7, 'B': 5, 'C': 8, 'D': 1}\n",
      "Diccionari de conversió: {'A': '...', 'B': '..-.', 'C': '.-', 'D': '..--'}\n",
      "Codificat: .....-...-..-....-.-.-..--..-............-..-.......-.-.-..-.\n",
      "Decodificat: ABBCACCCDBAAABCAACCCB\n"
     ]
    }
   ],
   "source": [
    "text_a_codificar = \"ABBCACCCDBAAABCAACCCB\"\n",
    "# text_a_codificar = \"ABABAC\"\n",
    "alphabet(text_a_codificar)"
   ]
  },
  {
   "cell_type": "code",
   "execution_count": 94,
   "metadata": {},
   "outputs": [],
   "source": [
    "assert \"ABBCACCCDBAAABCAACCCB\" == \"ABBCACCCDBAAABCAACCCB\" # he agafat \"text a codificar\" i \"decodificat\""
   ]
  },
  {
   "cell_type": "code",
   "execution_count": 95,
   "metadata": {
    "scrolled": true
   },
   "outputs": [
    {
     "name": "stdout",
     "output_type": "stream",
     "text": [
      "Text a codificar: ABABAC\n",
      "Diccionari de freqüències: {'A': 3, 'B': 2, 'C': 1}\n",
      "Diccionari de conversió: {'A': '.-', 'B': '...', 'C': '..-'}\n",
      "Codificat: .-....-....-..-\n",
      "Decodificat: ABABAC\n"
     ]
    }
   ],
   "source": [
    "# text_a_codificar = \"ABBCACCCDBAAABCAACCCB\"\n",
    "text_a_codificar = \"ABABAC\"\n",
    "alphabet(text_a_codificar)"
   ]
  },
  {
   "cell_type": "code",
   "execution_count": 96,
   "metadata": {},
   "outputs": [],
   "source": [
    "assert \"ABABAC\" == \"ABABAC\" # he agafat \"text a codificar\" i \"decodificat\""
   ]
  },
  {
   "cell_type": "code",
   "execution_count": 97,
   "metadata": {},
   "outputs": [
    {
     "name": "stdout",
     "output_type": "stream",
     "text": [
      "Text a codificar: A\n",
      "Diccionari de freqüències: {'A': 1}\n",
      "Diccionari de conversió: {'A': '.'}\n",
      "Codificat: .\n",
      "Decodificat: A\n"
     ]
    }
   ],
   "source": [
    "text_a_codificar = \"A\"\n",
    "alphabet(text_a_codificar)"
   ]
  },
  {
   "cell_type": "code",
   "execution_count": 98,
   "metadata": {},
   "outputs": [
    {
     "name": "stdout",
     "output_type": "stream",
     "text": [
      "Text a codificar: \n",
      "Diccionari de freqüències: {}\n",
      "Diccionari de conversió: {}\n",
      "Codificat: \n",
      "Decodificat: \n"
     ]
    }
   ],
   "source": [
    "text_a_codificar = \"\"\n",
    "alphabet(text_a_codificar)"
   ]
  },
  {
   "cell_type": "markdown",
   "metadata": {},
   "source": [
    "<div class=\"alert alert-info\">\n",
    "<center>\n",
    "  <h1>Entrega</h1>\n",
    "</center>\n",
    "\n",
    "<p>\n",
    "L'entrega es farà a través del campus virtual. Teniu fins el dia <b>14 de Novembre a les 23:55</b> per entregar la pràctica. A la tasca que obrirem al campus, <b>només heu d'entregar aquest fitxer .ipynb</b>. El notebook ha de tenir com a nom:\n",
    "</p>\n",
    "<p>\n",
    "    <code>L3_Grup_Cognom_Nom.ipynb</code>\n",
    "</p>\n",
    "    <br>\n",
    "On 'Grup' és una sola lletra que identifica el grup on esteu matriculats. Els grups disponibles són: A, B, C, F.\n",
    "\n",
    "És imprescindible que respecteu el format de les funcions i que el vostre codi estigui degudament comentat.<br><br>\n",
    "</div>"
   ]
  }
 ],
 "metadata": {
  "kernelspec": {
   "display_name": "Python 3",
   "language": "python",
   "name": "python3"
  },
  "language_info": {
   "codemirror_mode": {
    "name": "ipython",
    "version": 3
   },
   "file_extension": ".py",
   "mimetype": "text/x-python",
   "name": "python",
   "nbconvert_exporter": "python",
   "pygments_lexer": "ipython3",
   "version": "3.8.8"
  }
 },
 "nbformat": 4,
 "nbformat_minor": 4
}
