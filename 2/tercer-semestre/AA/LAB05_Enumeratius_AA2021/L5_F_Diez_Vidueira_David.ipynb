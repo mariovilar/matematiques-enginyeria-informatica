{
 "cells": [
  {
   "cell_type": "markdown",
   "metadata": {},
   "source": [
    "<div style=\"padding:30px; color: white; background-color: #0071CD\">\n",
    "<center>\n",
    "<img src=\"img/logoub.jpeg\"></img>\n",
    "<center>\n",
    "<h1>Algorísmica Avançada 2021</h1>\n",
    "<h2>Laboratori 5 - Enumeratius, Ramificació i Poda</h2>\n",
    "</center>\n",
    "</div>"
   ]
  },
  {
   "cell_type": "code",
   "execution_count": 1,
   "metadata": {},
   "outputs": [
    {
     "data": {
      "text/html": [
       "<style>.container { width:100% !important; }</style>"
      ],
      "text/plain": [
       "<IPython.core.display.HTML object>"
      ]
     },
     "metadata": {},
     "output_type": "display_data"
    }
   ],
   "source": [
    "import sys\n",
    "sys.path.insert(0, '../../')\n",
    "\n",
    "from IPython.core.display import display, HTML\n",
    "display(HTML(\"<style>.container { width:100% !important; }</style>\"))"
   ]
  },
  {
   "cell_type": "markdown",
   "metadata": {},
   "source": [
    "# Backtracking"
   ]
  },
  {
   "cell_type": "markdown",
   "metadata": {},
   "source": [
    "El <b>backtracking</b> és una tècnica d'exploració exhaustiva, és a dir, que explora tots els possibles estats d'un problema. La implementació d'un algorisme mitjançant backtracking no és gaire diferent a les estratègies de recursió que hem vist fins ara peró amb un matís important que veurem a continuació. Tots els algorismes de backtracking es caracteritzen per anar avançant fins que es pugui i, en cas d'arribar a un punt on no podem seguir explorant, <b>desfer el camí fins a l'últim punt possible</b> i explorar els següents estats.<br><br>\n",
    "Un exemple per al problema de les N-Reines (N=4) el podeu veure representat en la figura següent.<br>\n",
    "Observeu com inicialment es col·loca una reina a la primera casella (0,0) i, al no arribar a una solució, s'acaba movent a la posició (1,0).\n",
    "<img src=\"https://i.imgur.com/FYu8t3s.gif\" width='20%'/>\n"
   ]
  },
  {
   "cell_type": "markdown",
   "metadata": {},
   "source": [
    "## Com programem algorismes usant backtracking?\n",
    "\n",
    "Tot algorimse de backtracking ha de tenir, com a mínim, els següents tres blocs de codi."
   ]
  },
  {
   "cell_type": "markdown",
   "metadata": {},
   "source": [
    "<img src=\"img/backscheme.png\" width='40%'/>"
   ]
  },
  {
   "cell_type": "markdown",
   "metadata": {},
   "source": [
    "<ol>\n",
    "    <li><b>Solució trobada</b>: Hem de tenir una forma de comprovar si hem arribat a una solució. En el cas que aquest sigui l'únic objectiu del problema, ja haurem acabat i simplement haurem de desfer les crides recursives.\n",
    "    <li><b>Exploració</b>: Donat un estat actual, mirem quins moviments podem fer (si és que en podem fer algun!). Triem un dels moviments (seguint un criteri, o no) i cridem recursivament la funció esperant trobar una solució al problema. En el cas que el resultat d'una exploració no hagi retornat cap solució vàlida, hem de desfer el moviment que havíem fet.\n",
    "    <li><b>Estat no vàlid</b>: En el cas que durant l'exploració ens trobem amb un estat que no es vàlid per seguir explorant, per exemple, no podem fer cap altre moviment i tampoc hem resolt el problema, avisem a les crides anteriors d'això per a que puguin desfer-lo.\n",
    "</ol>"
   ]
  },
  {
   "cell_type": "markdown",
   "metadata": {},
   "source": [
    "<div class=\"alert alert-success\">\n",
    "    <h1>Problema 1: Lights Out!</h1>\n",
    "    <img src=\"https://upload.wikimedia.org/wikipedia/commons/a/a9/LightsOutIllustration.svg\" width='70%'>\n",
    "    <p>\n",
    "        Lights Out és un joc que consisteix en encendre o apagar totes les llums d'un tauler de dimensió $W\\times H$ en el <b>mínim nombre de clics possibles</b>. L'objectiu d'aquest problema és una mica diferent. Donades dues configuracions de tauler (per exemple la primera i última imatge de la figura anterior), volem trobar el mínim nombre de clics que ens permeten transformar un tauler en l'altre.<br><br>\n",
    "        Cada cel·la de la graella té dos estats possibles (encesa/apagada) i al fer clic sobre una cel·la es canvia l'estat d'ella mateixa i de les cel·les adjacents horitzontals i verticals com podeu veure representat també en la figura anterior.<br><br>\n",
    "        Implementeu les dues funcions <b>compare_grids</b> i <b>solve_lights_out</b>. \n",
    "        <ol>\n",
    "            <li>La funció <b>compare_grids</b> ha de retornar un valor de similitud entre dues graelles.\n",
    "            <li>La funció <b>solve_lights_out</b> ha d'implementar estratègies de backtracking i/o ramificació i poda per tal d'optimitzar el màxim el temps d'execució. Podeu plantejar-vos també usar cues de prioritat per prioritzar l'expansió de certs estats en concret.\n",
    "        </ol>        \n",
    "    La classe <b>LightsOut</b> conté una sola variable, <b>grid</b> amb la representació de cada posició de la graella.<br>\n",
    "    Té implementades les funcions <b>click, board_id, show_board</b> que s'expliquen a continuació.    \n",
    "    </p>\n",
    "    \n",
    "</div>"
   ]
  },
  {
   "cell_type": "code",
   "execution_count": 2,
   "metadata": {},
   "outputs": [],
   "source": [
    "from lights_out import LightsOut\n",
    "import random\n",
    "from matplotlib import pyplot as plt"
   ]
  },
  {
   "cell_type": "markdown",
   "metadata": {},
   "source": [
    "### Generació de taulers aleatoris"
   ]
  },
  {
   "cell_type": "code",
   "execution_count": 3,
   "metadata": {},
   "outputs": [],
   "source": [
    "# Generem dos configuracions aleatòries\n",
    "W, H = 3,4\n",
    "shuffle = 100\n",
    "\n",
    "# Inicialitzem dos objectes amb la dimensió de la graella\n",
    "a = LightsOut(W, H) # Configuració inicial\n",
    "b = LightsOut(W, H) # Configuració objectiu\n",
    "\n",
    "# Clicks aleatoris\n",
    "for _ in range(shuffle ):\n",
    "    i, j = random.randint(0, len(b.grid)-1), random.randint(0, len(b.grid[0])-1)\n",
    "    b = b.click(i,j)\n",
    "    \n",
    "for _ in range(shuffle):\n",
    "    i, j = random.randint(0, len(a.grid)-1), random.randint(0, len(a.grid[0])-1)\n",
    "    a = a.click(i,j)"
   ]
  },
  {
   "cell_type": "markdown",
   "metadata": {},
   "source": [
    "### Mostrem els dos taulells generats"
   ]
  },
  {
   "cell_type": "code",
   "execution_count": 4,
   "metadata": {},
   "outputs": [
    {
     "data": {
      "image/png": "[encoded data removed]",
      "text/plain": [
       "<Figure size 720x360 with 2 Axes>"
      ]
     },
     "metadata": {
      "needs_background": "light"
     },
     "output_type": "display_data"
    }
   ],
   "source": [
    "fig, axs = plt.subplots(1,2,figsize=(10,5))\n",
    "\n",
    "a.show_board(ax = axs[0])\n",
    "axs[0].set_title('Configuració inicial')\n",
    "b.show_board(ax = axs[1])\n",
    "axs[1].set_title('Configuració objectiu')\n",
    "\n",
    "plt.show()"
   ]
  },
  {
   "cell_type": "markdown",
   "metadata": {},
   "source": [
    "### Ús de la variable 'grid' i de les funcions 'board_id()', 'click()' i 'show_board()'"
   ]
  },
  {
   "cell_type": "code",
   "execution_count": 5,
   "metadata": {},
   "outputs": [
    {
     "data": {
      "text/plain": [
       "[['X', '-', '-', 'X'], ['-', '-', 'X', '-'], ['X', '-', '-', 'X']]"
      ]
     },
     "execution_count": 5,
     "metadata": {},
     "output_type": "execute_result"
    }
   ],
   "source": [
    "# Podem accedir a a la graella amb la variable 'grid'\n",
    "a.grid"
   ]
  },
  {
   "cell_type": "code",
   "execution_count": 6,
   "metadata": {},
   "outputs": [
    {
     "data": {
      "text/plain": [
       "-5698498611553650440"
      ]
     },
     "execution_count": 6,
     "metadata": {},
     "output_type": "execute_result"
    }
   ],
   "source": [
    "# Podem usar un identificador únic de cada graella cridant a board_id()\n",
    "a.board_id()"
   ]
  },
  {
   "cell_type": "code",
   "execution_count": 7,
   "metadata": {},
   "outputs": [
    {
     "data": {
      "image/png": "[encoded data removed]",
      "text/plain": [
       "<Figure size 1080x288 with 3 Axes>"
      ]
     },
     "metadata": {
      "needs_background": "light"
     },
     "output_type": "display_data"
    }
   ],
   "source": [
    "# Inicialitzem una figura amb tres subfigures i hi mostrem en primer lloc la configuració inicial\n",
    "fig, axs = plt.subplots(1,3,figsize=(15,4))\n",
    "a.show_board(ax = axs[0])\n",
    "axs[0].set_title('Configuració inicial')\n",
    "\n",
    "# Triem un punt aleatori i mostrem el click.\n",
    "i, j = random.randint(0, len(a.grid)-1), random.randint(0, len(a.grid[0])-1)\n",
    "a.show_board(ax = axs[1], show_click=(i,j))\n",
    "axs[1].set_title(f'Click a la casella ({i},{j})')\n",
    "\n",
    "# Executem el click i mirem el resultat\n",
    "new_a = a.click(i,j)\n",
    "new_a.show_board(ax = axs[2])\n",
    "axs[2].set_title(f'Configuració després del click ({i},{j})')\n",
    "\n",
    "plt.show()"
   ]
  },
  {
   "cell_type": "code",
   "execution_count": 8,
   "metadata": {},
   "outputs": [],
   "source": [
    "expanded = 0\n",
    "best_moves = set()\n",
    "actual_moves = set()"
   ]
  },
  {
   "cell_type": "code",
   "execution_count": 9,
   "metadata": {},
   "outputs": [],
   "source": [
    "from queue import PriorityQueue\n",
    "\n",
    "def compare_grids(l1, l2):\n",
    "    \"\"\"\n",
    "    Aquesta funció assigna una puntuació a la similitud entre l1 i l2.\n",
    "    \n",
    "    Params\n",
    "    ======\n",
    "    :l1, l2: Dos objectes de tipus LightsOut\n",
    "    \n",
    "    Returns\n",
    "    =======\n",
    "    :score: Una puntuació entre aquests dos elements.\n",
    "    \"\"\"\n",
    "    \n",
    "    l1H, l1W = len(l1.grid), len(l1.grid[0])\n",
    "    l2H, l2W = len(l2.grid), len(l2.grid[0])\n",
    "    \n",
    "    # Vemos cuantos elementos son iguales\n",
    "    score = 0\n",
    "    \n",
    "    if l1H != l2H or l1W != l2W:\n",
    "        return -1\n",
    "\n",
    "    for i in range(l1H):\n",
    "        for j in range(l1W):\n",
    "            # Si en una misma posición hay valores iguales, sumamos 1 al score\n",
    "            if l1.grid[i][j] == l2.grid[i][j]:\n",
    "                score += 1    \n",
    "    return score\n",
    "\n",
    "def solve_lights_out(ini, tar):\n",
    "    \"\"\"\n",
    "    Aquesta funció soluciona el problema Lights Out i retorna una solució de moviments mínims.\n",
    "    \n",
    "    Params\n",
    "    ======\n",
    "    :ini, tar: Dos objectes de tipus LightsOut\n",
    "    \n",
    "    Returns\n",
    "    =======\n",
    "    :expanded: Número de taulers que s'han expandit\n",
    "    :best_moves: La seqüència de moviments que s'han de realitzar per arribar d'un tauler a l'altre en el format [(0,0), (3,2), (1,2),...]\n",
    "    \"\"\"\n",
    "    # Guardamos las dimensiones de la tabla\n",
    "    m, n = len(ini.grid), len(ini.grid[0])\n",
    "        \n",
    "    # Llamamos a la función de backtracking\n",
    "    solve_lights_out_backtracking(ini, tar, (m, n))\n",
    "    \n",
    "    # Retornamos lo que nos apetece\n",
    "    return expanded, best_moves\n",
    "\n",
    "\n",
    "def valid(ini, tar, point):\n",
    "    global best_moves, actual_moves\n",
    "    \n",
    "    i, j = point\n",
    "    # Hay tres condiciones que harán que un click no sea válido:\n",
    "    # 1. Si la solución que estamos explorando tiene más clicks que la mejor solución encontrada.\n",
    "    # 2. Si las dos casillas tienen el mismo estado\n",
    "    # 3. Si ya hemos hecho click en esta casilla\n",
    "    if ((best_moves and len(best_moves) < len(actual_moves)) or (ini.grid[i][j] == tar.grid[i][j]) or (point in actual_moves)):\n",
    "        return False\n",
    "    \n",
    "    return True\n",
    "    \n",
    "def solve_lights_out_backtracking(ini, tar, size):\n",
    "    # Definimos las variables globales\n",
    "    global expanded, best_moves, actual_moves\n",
    "    \n",
    "    m, n = size \n",
    "    \n",
    "    # Cada vez que hacemos la llamada recursiva, el expanded aumenta\n",
    "    expanded += 1\n",
    "    \n",
    "    # Si las dos tablas son iguales, hemos encontrado la solución\n",
    "    if ini.grid == tar.grid:\n",
    "        return True\n",
    "    \n",
    "    # En caso de no haber encontrado la solución, iteramos por todas las posiciones de la tabla\n",
    "    for i in range(m):\n",
    "        for j in range(n):\n",
    "            # Miramos si hace click en esta celda es válido\n",
    "            if valid(ini, tar, (i, j)):\n",
    "                # En caso de ser válido hacemos click y añadimos el click a la lista de clicks               \n",
    "                actual_moves.add((i, j))\n",
    "                \n",
    "                # Vemos si la solución prospera\n",
    "                if solve_lights_out_backtracking(ini.click(i, j), tar, size):\n",
    "                    # En vez de retornar True, si la solución encontrada es mejor que la\n",
    "                    # mejor solución, reasignamos variables.\n",
    "                    if ((not best_moves) or (len(actual_moves) < len(best_moves))):\n",
    "                        best_moves = actual_moves.copy()\n",
    "                        \n",
    "                # En caso que el plan no prospere, eliminamos el punto de la lista de movimientos\n",
    "                actual_moves.remove((i, j))\n",
    "\n",
    "    return False\n",
    "\n",
    "def show_steps(ini, tar, steps):\n",
    "    \"\"\"\n",
    "    Mostra una figura per pas donat un tauler inicial i un conjunt de passos\n",
    "    \n",
    "    Params\n",
    "    ======\n",
    "    :ini: Un objecte de la classe LightsOut amb la configuració original\n",
    "    :tar: Un objecte de la classe LightsOut amb la configuració objectiu\n",
    "    :steps: Una llista de passos amb el format [(0,0), (3,2), (1,2),...]\n",
    "    \"\"\"\n",
    "    fig, axs = plt.subplots(1, len(steps)+2, figsize=(30,5))\n",
    "    axs = axs.flatten()\n",
    "    for i, step in enumerate(steps):\n",
    "        ini.show_board(ax=axs[i], show_click=step)\n",
    "        axs[i].set_title(f\"Click at {step}\")\n",
    "        ini = ini.click(*step)\n",
    "    ini.show_board(ax=axs[i+1])\n",
    "    axs[i+1].set_title(f'Result after {len(steps)} steps')\n",
    "    tar.show_board(ax=axs[i+2])\n",
    "    axs[i+2].set_title(f'Target configuration')\n",
    "    plt.show()"
   ]
  },
  {
   "cell_type": "markdown",
   "metadata": {},
   "source": [
    "Proveu-ho aquí:"
   ]
  },
  {
   "cell_type": "code",
   "execution_count": 10,
   "metadata": {},
   "outputs": [],
   "source": [
    "expanded, moves = solve_lights_out(a,b)"
   ]
  },
  {
   "cell_type": "code",
   "execution_count": 11,
   "metadata": {},
   "outputs": [
    {
     "name": "stdout",
     "output_type": "stream",
     "text": [
      "Expanded boards: 87751\n"
     ]
    },
    {
     "data": {
      "image/png": "[encoded data removed]",
      "text/plain": [
       "<Figure size 2160x360 with 8 Axes>"
      ]
     },
     "metadata": {
      "needs_background": "light"
     },
     "output_type": "display_data"
    }
   ],
   "source": [
    "print('Expanded boards:',expanded)\n",
    "show_steps(a, b,moves)"
   ]
  },
  {
   "cell_type": "markdown",
   "metadata": {},
   "source": [
    "<div class=\"alert alert-success\">\n",
    "    <h1>Problema 2: Roomba!</h1>\n",
    "    <p>\n",
    "        En el nostre pis quadrat, tenim una roomba endollada a la seva base de càrrega. Volem que visiti un seguit de punts que hem embrutat i que ho faci en el menor temps possible. Si el nostre pis és de $W\\times H$ cel·les i la roomba està situada inicialment a les coordenades $(x_0,y_0)$ volem trobar el menor nombre de passos possibles $p$ d'un recorregut que comenci i acabi a $(x_0,y_0)$ i que visiti tots els punts.<br><br>\n",
    "        Implementeu la funció <b>solve_roomba</b> utilitzant estratègies de backtracking i ramificació i poda. Ha de retornar els taulers expandits i un camí que comenci i acabi a $(x_0,y_0)$ passant per tots els punts que es demanen. També heu d'implementar les funcions <b>inferior_bound</b> i <b>superior_bound</b> per a que retornin una cota inferior i superior, respectivament.\n",
    "        <ol>\n",
    "            <li><b>Cota inferior</b>: Considereu que tots els punts estan alinets horitzontalment amb la roomba. Quin seria el cost de visitar tots els punts en aquest cas?\n",
    "            <li><b>Cota superior</b>: Trobeu una solució, no òptima evidentment, usant una estratègia greedy. Com a mínim ja tindrem una solució que, segurament, no serà la millor però la podrem fer servir per comparar durant l'execució del nostre algorisme.\n",
    "        </ol>\n",
    "        La classe <b>Roomba</b> conté quatre variables:\n",
    "        <ol>\n",
    "            <li><b>H, W</b>: amb les dimensions del pis.\n",
    "            <li><b>origin</b>: una parella $(x_0,y_0)$ amb l'estació de càrrega de la roomba.\n",
    "            <li><b>points</b>: una llista de parelles diferents entre elles $(i,j)$ amb els punts que s'han de netejar.\n",
    "        </ol>\n",
    "    </p>\n",
    "    \n",
    "</div>"
   ]
  },
  {
   "cell_type": "code",
   "execution_count": 12,
   "metadata": {},
   "outputs": [],
   "source": [
    "from roomba import Roomba"
   ]
  },
  {
   "cell_type": "code",
   "execution_count": 13,
   "metadata": {
    "scrolled": true
   },
   "outputs": [
    {
     "data": {
      "image/png": "[encoded data removed]",
      "text/plain": [
       "<Figure size 864x432 with 1 Axes>"
      ]
     },
     "metadata": {
      "needs_background": "light"
     },
     "output_type": "display_data"
    }
   ],
   "source": [
    "# Inicialitzem un tauler aleatori\n",
    "H, W = 10,20\n",
    "r = Roomba(H, W)\n",
    "num_points = 10\n",
    "\n",
    "points = random.sample([(i,j) for i in range(H) for j in range(W)], num_points)\n",
    "origin = random.choice([(i,j) for i in range(H) for j in range(W)])\n",
    "while origin in points:\n",
    "    origin = random.choice([(i,j) for i in range(H) for j in range(W)])\n",
    "\n",
    "# Afegim els punts a netejar i l'orígen\n",
    "r.set_points(points)\n",
    "r.set_origin(origin)\n",
    "\n",
    "# Mostrem la graella\n",
    "r.show_board()"
   ]
  },
  {
   "cell_type": "markdown",
   "metadata": {},
   "source": [
    "## Distància de Manhattan\n",
    "La distància de manhattan ens permet trobar la distància entre dos punts d'una graella. A diferència de la <b>distància euclidiana</b> (blava), la <b>distància de manhattan</b> (vermella) no contempla la distància en línia recta sinó que té en compte la morfologia de la grella. D'aquesta forma ens dóna una distància real entre dos punts d'una ciutat quadriculada o del taulell del problema que volem resoldre."
   ]
  },
  {
   "cell_type": "markdown",
   "metadata": {},
   "source": [
    "<img src='https://static.packt-cdn.com/products/9781787121515/graphics/bd978c4c-8251-489d-bcda-5ce7b7b825dd.png' width='20%'>"
   ]
  },
  {
   "cell_type": "code",
   "execution_count": 14,
   "metadata": {},
   "outputs": [],
   "source": [
    "def manhattan_dist(point1, point2):\n",
    "    \"\"\"\n",
    "    Donats dos punts point1, point2, retorna la distància de manhattan\n",
    "    \n",
    "    Params\n",
    "    ======\n",
    "    :point1, point2: Dos punts amb el format point1=(a1,b1), point2=(a2,b2)\n",
    "    \n",
    "    Returns\n",
    "    =======\n",
    "    :dist: La distància de manhattan entre els dos punts. dist = |a1-a2| + |b1-b2|\n",
    "    \n",
    "    \"\"\"\n",
    "    a1, b1 = point1\n",
    "    a2, b2 = point2\n",
    "    return abs(a1-a2)+abs(b1-b2)"
   ]
  },
  {
   "cell_type": "code",
   "execution_count": 15,
   "metadata": {},
   "outputs": [],
   "source": [
    "def superior_bound(roomba):\n",
    "    \"\"\"\n",
    "    Retorna la cota superior inicial per al problema de la Roomba usant una estratègia greedy.\n",
    "    \n",
    "    Params\n",
    "    ======\n",
    "    :roomba: Un objecte de la classe Roomba. Podeu accedir a les variables roomba.points, roomba.origin, roomba.W, roomba.H\n",
    "    \n",
    "    Returns\n",
    "    =======\n",
    "    :sup: La cota inferior incial per a aquest problema. \n",
    "    \"\"\"\n",
    "\n",
    "    # Sup guarda la distancia que hay que recorrer\n",
    "    sup = 0\n",
    "    \n",
    "    # Roomba_pos guarda la posición actual de la roomba\n",
    "    roomba_pos = roomba.origin\n",
    "    \n",
    "    # Uncleaned_points es una lista de los puntos que aun no hemos visitado\n",
    "    dirty_points = roomba.points.copy()\n",
    "\n",
    "    # Mientras haya puntos que no hemos visitado con la roomba\n",
    "    while dirty_points:\n",
    "        # En min_distance guardaremos la distancia mínima, \n",
    "        # por eso la iniciamos a un valor muy alto\n",
    "        min_distance = float(\"inf\")\n",
    "        \n",
    "        for point in dirty_points:\n",
    "            # En dist_roomba_point guardaremos la distancia \n",
    "            # entre la roomba y un punto\n",
    "            dist_roomba_point = manhattan_dist(roomba_pos, point)\n",
    "            \n",
    "            # Calculamos la distancia mínima\n",
    "            min_distance = min(dist_roomba_point,min_distance)\n",
    "            \n",
    "            # Si la distancia mínima es la que hay \n",
    "            # entre la roomba y el punto, reasignamos el siguiente punto\n",
    "            if min_distance == dist_roomba_point:\n",
    "                next_point = point\n",
    "        \n",
    "        # La distancia sup será la suma de distancias mínimas\n",
    "        sup += min_distance\n",
    "        \n",
    "        # Movemos la roomba de sitio\n",
    "        roomba_pos = next_point\n",
    "\n",
    "        # Eliminamos el punto de la lista de puntos no visitados\n",
    "        dirty_points.remove(next_point)\n",
    "\n",
    "    # Una vez visitados todos los nodos hay que volver al inicio,\n",
    "    # por lo tanto calculamos la distancia desde donde estamos\n",
    "    # hasta el origen.\n",
    "    sup += manhattan_dist(roomba.origin, roomba_pos)\n",
    "    \n",
    "    return sup\n",
    "\n",
    "def inferior_bound(roomba):\n",
    "    \"\"\"\n",
    "    Retorna la cota inferior inicial per al problema de la Roomba. Considereu que tots els punts estan alineats i calculeu-ne el cost de visitar-los tots i tornar a la base de càrrega.\n",
    "    \n",
    "    Params\n",
    "    ======\n",
    "    :roomba: Un objecte de la classe Roomba. Podeu accedir a les variables roomba.points, roomba.origin, roomba.W, roomba.H\n",
    "    \n",
    "    Returns\n",
    "    =======\n",
    "    ::\n",
    "    \"\"\"\n",
    "    # En caso que todos los puntos estén formando \n",
    "    # un cuadrado alrededor de la Roomba, tan solo\n",
    "    # hay que hacer n + 1 moviemientos, con n la\n",
    "    # cantidad de puntos.\n",
    "    inf = len(roomba.points)+1\n",
    "    \n",
    "    return inf"
   ]
  },
  {
   "cell_type": "code",
   "execution_count": 16,
   "metadata": {},
   "outputs": [],
   "source": [
    "from queue import PriorityQueue\n",
    "\n",
    "def solve_roomba(roomba):\n",
    "    \"\"\"\n",
    "    Soluciona el problema de trobar el camí mínim en una graella 2-Dimensional passant per un seguit de punts.\n",
    "    \n",
    "    Params\n",
    "    ======\n",
    "    :roomba: Un objecte de la classe Roomba\n",
    "    \n",
    "    Returns\n",
    "    =======\n",
    "    :expanded: Número de taulers que s'han expandit\n",
    "    :best_moves: La seqüència de moviments que ha de realitzar la roomba per visitar tots els punts amb el format [(0,0), (0,1), (0,2),...,(0,0)]\n",
    "    \"\"\"\n",
    "\n",
    "    # Calculamos el inferior y superior bound\n",
    "    sup_bound = superior_bound(roomba)\n",
    "    inf_bound = inferior_bound(roomba)\n",
    "        \n",
    "    # Inicializamos best moves como una lista vacía y expanded nulo\n",
    "    best_moves = []\n",
    "    expanded = 0\n",
    "    \n",
    "    # Guardamos el origen de la roomba y todos los puntos sucios\n",
    "    origin = roomba.origin\n",
    "    dirty_points = roomba.points\n",
    "    \n",
    "    # Cost y actual_moves son los parametros de la PriorityQueue()\n",
    "    cost = 0\n",
    "    actual_moves = [origin]\n",
    "    \n",
    "    # Creamos la PriorityQueue() que guarda\n",
    "    # 1. Lista de movimientos actuales\n",
    "    # 2. Coste de estos moviemientos\n",
    "    pq = PriorityQueue()\n",
    "\n",
    "    pq.put((actual_moves, cost))\n",
    "\n",
    "    # Mientras haya elementos en la PriorityQueue()\n",
    "    while not pq.empty():\n",
    "        # El expanded aumenta en 1 y sacamos los elementos de la pq\n",
    "        expanded += 1\n",
    "        actual_moves, cost = pq.get()\n",
    "        \n",
    "        # Guardamos la última posición de la roomba\n",
    "        last_pos = actual_moves[-1]        \n",
    "            \n",
    "        # Si hemos encontrado una solución\n",
    "        if len(actual_moves) == len(dirty_points) + 1:\n",
    "            # Calculamos el coste que tenemos\n",
    "            dist_to_origin = cost + manhattan_dist(last_pos, origin)\n",
    "            \n",
    "            # Si esta solución es mejor que la que tenemos reasignamos variables\n",
    "            if dist_to_origin <= sup_bound:\n",
    "                sup_bound = dist_to_origin\n",
    "                best_moves = actual_moves.copy()\n",
    "            \n",
    "        # Si no es solución, pero es una solución óptima\n",
    "        elif cost < sup_bound:\n",
    "            # Creamos una PriorityQueue() que guarde los puntos que aun no hemos visitado \n",
    "            # por orden de distancia\n",
    "            possible_moves = next_moves(last_pos, dirty_points, set(actual_moves))\n",
    "\n",
    "            # Mientras queden elementos en possible_moves, vemos cual es mejor\n",
    "            while not possible_moves.empty():\n",
    "                dist, new_pos = possible_moves.get()\n",
    "                \n",
    "                new_actual_moves = actual_moves.copy()\n",
    "                new_actual_moves.append(new_pos)\n",
    "                \n",
    "                new_cost = cost + dist\n",
    "                \n",
    "                if new_cost < sup_bound:\n",
    "                    pq.put((new_actual_moves, new_cost))\n",
    "\n",
    "    # Al acabar añadimos el origen a best_moves\n",
    "    best_moves.append(origin)\n",
    "    \n",
    "    # En este punto tenemos una lista con los mismos puntos que dirty_points pero ordenados de forma\n",
    "    # que obtenemos la distancia mínima entre todos ellos.\n",
    "    # Por eso ahora tenemos que reconstruir el camino entre los puntos, para ello llamamos a draw_path\n",
    "    best_moves = draw_path(best_moves)\n",
    "    \n",
    "    return expanded, best_moves"
   ]
  },
  {
   "cell_type": "code",
   "execution_count": 17,
   "metadata": {},
   "outputs": [],
   "source": [
    "def next_moves(last_pos, dirty_points, seen):   \n",
    "    possible_moves = PriorityQueue()\n",
    "\n",
    "    # Ordenamos los puntos sucios por cercanía\n",
    "    for points in dirty_points:\n",
    "        if points not in seen:\n",
    "            possible_moves.put((manhattan_dist(last_pos, points), points))\n",
    "\n",
    "    return possible_moves"
   ]
  },
  {
   "cell_type": "code",
   "execution_count": 18,
   "metadata": {},
   "outputs": [],
   "source": [
    "def draw_path(path):\n",
    "    # Creamos una lista donde guardaremos todo el path\n",
    "    final_path = [path[-1]]\n",
    "        \n",
    "    # Mientras haya, almenos, 2 elementos en el path, iteramos\n",
    "    while len(path) >= 2:\n",
    "        # Guardamos los dos últimos elementos de path\n",
    "        first_point = path[-1]\n",
    "        second_point = path[-2]      \n",
    "        \n",
    "        # Guardamos sus coordenadas\n",
    "        first_point_i, first_point_j = first_point\n",
    "        second_point_i, second_point_j = second_point\n",
    "        \n",
    "        # Depende de cual tenga la coordenada i mayor, haremos una cosa u otra\n",
    "        if first_point_i >= second_point_i:\n",
    "            for i in range(first_point_i-1, second_point_i-1, -1):\n",
    "                if final_path[-1] != (i, first_point_j):\n",
    "                    final_path.append((i, first_point_j))\n",
    "        else:\n",
    "            for i in range(first_point_i+1, second_point_i+1):\n",
    "                if final_path[-1] != (i, first_point_j):\n",
    "                    final_path.append((i, first_point_j))\n",
    "            \n",
    "        # Guardamos la fila en la que estamos\n",
    "        row = final_path[-1][0]\n",
    "        \n",
    "        # Depende de cual tenga la coordenada j mayor, haremos una cosa u otra\n",
    "        if first_point_j >= second_point_j:\n",
    "            for j in range(first_point_j-1, second_point_j-1, -1):\n",
    "                if final_path[-1] != (row, j):\n",
    "                    final_path.append((row, j))\n",
    "        else:\n",
    "            for j in range(first_point_j+1, second_point_j+1):\n",
    "                if final_path[-1] != (row, j):\n",
    "                    final_path.append((row, j))\n",
    "                \n",
    "        # Eliminamos el último elemento de la lista para seguir iterando\n",
    "        path.pop()\n",
    "    \n",
    "    return final_path"
   ]
  },
  {
   "cell_type": "code",
   "execution_count": 19,
   "metadata": {},
   "outputs": [
    {
     "data": {
      "image/png": "[encoded data removed]",
      "text/plain": [
       "<Figure size 288x288 with 1 Axes>"
      ]
     },
     "metadata": {
      "needs_background": "light"
     },
     "output_type": "display_data"
    }
   ],
   "source": [
    "H, W = 3,3\n",
    "r = Roomba(H, W)\n",
    "r.set_origin((0,0))\n",
    "r.set_points([(0,2),(1,1),(2,0)])\n",
    "\n",
    "expanded, path = solve_roomba(r)\n",
    "r.show_board(path=path)"
   ]
  },
  {
   "cell_type": "markdown",
   "metadata": {},
   "source": [
    "<div class=\"alert alert-info\">\n",
    "<center>\n",
    "  <h1>Entrega</h1>\n",
    "</center>\n",
    "\n",
    "<p>\n",
    "L'entrega es farà a través del campus virtual. Teniu fins el dia <b>30 de Desembre a les 23:55</b> per entregar la pràctica. A la tasca que obrirem al campus, <b>només heu d'entregar aquest fitxer .ipynb</b>. El notebook ha de tenir com a nom:\n",
    "</p>\n",
    "<p>\n",
    "    <code>L5_Grup_Cognom_Nom.ipynb</code>\n",
    "</p>\n",
    "    <br>\n",
    "On 'Grup' és una sola lletra que identifica el grup on esteu matriculats. Els grups disponibles són: A, B, C, F.\n",
    "\n",
    "És imprescindible que respecteu el format de les funcions i que el vostre codi estigui degudament comentat.<br><br>\n",
    "</div>"
   ]
  }
 ],
 "metadata": {
  "kernelspec": {
   "display_name": "Python 3",
   "language": "python",
   "name": "python3"
  },
  "language_info": {
   "codemirror_mode": {
    "name": "ipython",
    "version": 3
   },
   "file_extension": ".py",
   "mimetype": "text/x-python",
   "name": "python",
   "nbconvert_exporter": "python",
   "pygments_lexer": "ipython3",
   "version": "3.8.8"
  },
  "latex_envs": {
   "LaTeX_envs_menu_present": true,
   "autoclose": false,
   "autocomplete": true,
   "bibliofile": "biblio.bib",
   "cite_by": "apalike",
   "current_citInitial": 1,
   "eqLabelWithNumbers": true,
   "eqNumInitial": 1,
   "hotkeys": {
    "equation": "Ctrl-E",
    "itemize": "Ctrl-I"
   },
   "labels_anchors": false,
   "latex_user_defs": false,
   "report_style_numbering": false,
   "user_envs_cfg": false
  },
  "toc": {
   "base_numbering": 1,
   "nav_menu": {},
   "number_sections": true,
   "sideBar": true,
   "skip_h1_title": false,
   "title_cell": "Table of Contents",
   "title_sidebar": "Contents",
   "toc_cell": false,
   "toc_position": {},
   "toc_section_display": true,
   "toc_window_display": false
  }
 },
 "nbformat": 4,
 "nbformat_minor": 4
}
